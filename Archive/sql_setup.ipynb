{
 "cells": [
  {
   "cell_type": "code",
   "execution_count": 2,
   "id": "ea524294-5d2d-4948-81c1-2af462c585b5",
   "metadata": {},
   "outputs": [
    {
     "name": "stdout",
     "output_type": "stream",
     "text": [
      "Data successfully stored in SQL database!\n",
      "Number of rows in SQL database: 45593\n"
     ]
    }
   ],
   "source": [
    "import pandas as pd\n",
    "import sqlite3\n",
    "from sqlalchemy import create_engine\n",
    "\n",
    "# Create database engine\n",
    "engine = create_engine('sqlite:///delivery_data.db')\n",
    "\n",
    "# Load your FINAL processed dataset (the one you used for your model)\n",
    "final_df = pd.read_csv('/Users/lanahuyen/UCB Bootcamp/food_delivery/data/train_dataset_with_holidays.csv')  # or load from your existing variable\n",
    "\n",
    "# Store in SQL database\n",
    "final_df.to_sql('delivery_data', engine, if_exists='replace', index=False)\n",
    "\n",
    "print(\"Data successfully stored in SQL database!\")\n",
    "\n",
    "# Quick verification\n",
    "df_verify = pd.read_sql(\"SELECT COUNT(*) FROM delivery_data\", engine)\n",
    "print(f\"Number of rows in SQL database: {df_verify.iloc[0,0]}\")"
   ]
  },
  {
   "cell_type": "code",
   "execution_count": null,
   "id": "e33e9d49-2560-4747-b5b0-9e53fa495754",
   "metadata": {},
   "outputs": [],
   "source": []
  }
 ],
 "metadata": {
  "kernelspec": {
   "display_name": "Python 3 (ipykernel)",
   "language": "python",
   "name": "python3"
  },
  "language_info": {
   "codemirror_mode": {
    "name": "ipython",
    "version": 3
   },
   "file_extension": ".py",
   "mimetype": "text/x-python",
   "name": "python",
   "nbconvert_exporter": "python",
   "pygments_lexer": "ipython3",
   "version": "3.10.14"
  }
 },
 "nbformat": 4,
 "nbformat_minor": 5
}
